{
 "cells": [
  {
   "cell_type": "code",
   "execution_count": 3,
   "id": "7cbc0243",
   "metadata": {},
   "outputs": [],
   "source": [
    "import pandas as pd\n",
    "import numpy as np"
   ]
  },
  {
   "cell_type": "code",
   "execution_count": 9,
   "id": "50061a1c",
   "metadata": {},
   "outputs": [],
   "source": [
    "data = pd.read_csv('algothon.csv')"
   ]
  },
  {
   "cell_type": "code",
   "execution_count": 20,
   "id": "07285ceb",
   "metadata": {},
   "outputs": [
    {
     "name": "stdout",
     "output_type": "stream",
     "text": [
      "101880.0\n"
     ]
    }
   ],
   "source": [
    "data = pd.read_csv('algothon.csv')\n",
    "close_price = data['Close'].to_numpy()\n",
    "\n",
    "cash = 100000\n",
    "share = 0\n",
    "\n",
    "for i in range(days-1):\n",
    "    if close_price[i] < close_price[-1]:\n",
    "        n = min(10, cash/ close_price[i])\n",
    "        share += n\n",
    "        cash -= n * close_price[i]\n",
    "\n",
    "cash += share * close_price[-1]\n",
    "      \n",
    "print(cash)\n",
    "        \n",
    "    "
   ]
  },
  {
   "cell_type": "code",
   "execution_count": null,
   "id": "19907917",
   "metadata": {},
   "outputs": [],
   "source": []
  },
  {
   "cell_type": "code",
   "execution_count": null,
   "id": "325dde24",
   "metadata": {},
   "outputs": [],
   "source": []
  }
 ],
 "metadata": {
  "kernelspec": {
   "display_name": "Python 3 (ipykernel)",
   "language": "python",
   "name": "python3"
  },
  "language_info": {
   "codemirror_mode": {
    "name": "ipython",
    "version": 3
   },
   "file_extension": ".py",
   "mimetype": "text/x-python",
   "name": "python",
   "nbconvert_exporter": "python",
   "pygments_lexer": "ipython3",
   "version": "3.9.13"
  }
 },
 "nbformat": 4,
 "nbformat_minor": 5
}
